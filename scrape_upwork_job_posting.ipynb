{
  "nbformat": 4,
  "nbformat_minor": 0,
  "metadata": {
    "colab": {
      "provenance": [],
      "authorship_tag": "ABX9TyMLdH3zw9VjGDzM9x+rB8/G",
      "include_colab_link": true
    },
    "kernelspec": {
      "name": "python3",
      "display_name": "Python 3"
    },
    "language_info": {
      "name": "python"
    }
  },
  "cells": [
    {
      "cell_type": "markdown",
      "metadata": {
        "id": "view-in-github",
        "colab_type": "text"
      },
      "source": [
        "<a href=\"https://colab.research.google.com/github/dataCatalystSolutions/job_scraping/blob/main/scrape_upwork_job_posting.ipynb\" target=\"_parent\"><img src=\"https://colab.research.google.com/assets/colab-badge.svg\" alt=\"Open In Colab\"/></a>"
      ]
    },
    {
      "cell_type": "markdown",
      "source": [
        "To obtain the `api_key` and `access_token` required for accessing the Upwork API, you need to follow these steps:\n",
        "\n",
        "### 1. **Apply for API Access**:\n",
        "   - Go to the Upwork API [application page](https://www.upwork.com/developer/keys/apply).\n",
        "   - Fill out the application form with details about your project, including how you plan to use the API.\n",
        "   - Submit the form and wait for approval from Upwork.\n",
        "\n",
        "### 2. **Obtain Your API Key**:\n",
        "   - Once your application is approved, you'll receive an API key from Upwork.\n",
        "   - This key is usually provided on the developer dashboard under your API applications. Make sure to store it securely.\n",
        "\n",
        "### 3. **Generate an Access Token**:\n",
        "   - Upwork’s API typically uses OAuth 2.0 for authorization.\n",
        "   - You will need to implement an OAuth flow to get an `access_token`. This involves:\n",
        "     - Redirecting users to Upwork's authorization server to log in and grant permissions to your app.\n",
        "     - Handling the authorization callback to capture the authorization code.\n",
        "     - Exchanging the authorization code for an `access_token` using a POST request to Upwork’s token endpoint.\n",
        "  \n",
        "### Example of OAuth Flow (Simplified):\n",
        "   \n",
        "```python\n",
        "import requests\n",
        "\n",
        "# Step 1: Direct the user to Upwork's OAuth authorization URL\n",
        "# This is typically done in a web app where users log in\n",
        "\n",
        "# Step 2: Capture the authorization code after the user logs in and approves your app\n",
        "\n",
        "authorization_code = \"AUTHORIZATION_CODE_RECEIVED\"\n",
        "\n",
        "# Step 3: Exchange authorization code for access token\n",
        "token_url = \"https://www.upwork.com/api/v3/oauth/token\"\n",
        "data = {\n",
        "    'grant_type': 'authorization_code',\n",
        "    'code': authorization_code,\n",
        "    'redirect_uri': 'YOUR_REDIRECT_URI',\n",
        "    'client_id': 'YOUR_CLIENT_ID',\n",
        "    'client_secret': 'YOUR_CLIENT_SECRET'\n",
        "}\n",
        "\n",
        "response = requests.post(token_url, data=data)\n",
        "token_info = response.json()\n",
        "access_token = token_info.get(\"access_token\")\n",
        "```\n",
        "\n",
        "### 4. **Using the API Key and Access Token**:\n",
        "   - After obtaining both the `api_key` and `access_token`, you can use them in your requests to authenticate API calls as shown in the code examples.\n",
        "\n",
        "Make sure to review Upwork's [API documentation](https://developers.upwork.com/) for specific details on how to implement the OAuth process and use their API securely and effectively."
      ],
      "metadata": {
        "id": "NItX1FOgG0q4"
      }
    },
    {
      "cell_type": "markdown",
      "source": [
        "To extract job postings using the Upwork API and fetch details like titles, descriptions, required skills, and client preferences, you can use a Python script that interacts with the Upwork GraphQL API. Here’s a basic example to help you get started:\n",
        "\n",
        "### Step 1: Install Required Libraries\n",
        "You’ll need to install the `requests` library for handling HTTP requests and `graphqlclient` for making GraphQL queries.\n",
        "\n",
        "```bash\n",
        "pip install requests graphqlclient\n",
        "```"
      ],
      "metadata": {
        "id": "zl_SK8EMDw5r"
      }
    },
    {
      "cell_type": "code",
      "execution_count": null,
      "metadata": {
        "colab": {
          "base_uri": "https://localhost:8080/"
        },
        "id": "VbhiREgVDZwv",
        "outputId": "654a161d-541d-4f93-f731-d51012feab97"
      },
      "outputs": [
        {
          "output_type": "stream",
          "name": "stdout",
          "text": [
            "Requirement already satisfied: requests in /usr/local/lib/python3.10/dist-packages (2.32.3)\n",
            "Collecting graphqlclient\n",
            "  Downloading graphqlclient-0.2.4.tar.gz (2.6 kB)\n",
            "  Preparing metadata (setup.py) ... \u001b[?25l\u001b[?25hdone\n",
            "Requirement already satisfied: charset-normalizer<4,>=2 in /usr/local/lib/python3.10/dist-packages (from requests) (3.3.2)\n",
            "Requirement already satisfied: idna<4,>=2.5 in /usr/local/lib/python3.10/dist-packages (from requests) (3.10)\n",
            "Requirement already satisfied: urllib3<3,>=1.21.1 in /usr/local/lib/python3.10/dist-packages (from requests) (2.0.7)\n",
            "Requirement already satisfied: certifi>=2017.4.17 in /usr/local/lib/python3.10/dist-packages (from requests) (2024.8.30)\n",
            "Requirement already satisfied: six in /usr/local/lib/python3.10/dist-packages (from graphqlclient) (1.16.0)\n",
            "Building wheels for collected packages: graphqlclient\n",
            "  Building wheel for graphqlclient (setup.py) ... \u001b[?25l\u001b[?25hdone\n",
            "  Created wheel for graphqlclient: filename=graphqlclient-0.2.4-py3-none-any.whl size=3136 sha256=7d238a4c00fb966f022050e0e174e19dbf70f448ba06b05e5d0dbbc77b551f47\n",
            "  Stored in directory: /root/.cache/pip/wheels/28/82/aa/a17f0155204dd9b0d3666ba074d763ffeb679811d3c74205f7\n",
            "Successfully built graphqlclient\n",
            "Installing collected packages: graphqlclient\n",
            "Successfully installed graphqlclient-0.2.4\n"
          ]
        }
      ],
      "source": [
        "!pip install requests graphqlclient"
      ]
    },
    {
      "cell_type": "markdown",
      "source": [
        "### Step 2: Importing Required Libraries\n",
        "  ```python\n",
        "  import requests\n",
        "  from graphqlclient import GraphQLClient\n",
        "  ```\n",
        "  * **requests**: This library is used for making HTTP requests to APIs. It simplifies the process of sending GET, POST, and other HTTP requests.\n",
        "  * **graphqlclient**: This is a library designed to interact with GraphQL APIs. It allows you to send GraphQL queries to a specified endpoint."
      ],
      "metadata": {
        "id": "Km3oY6tYJ1TC"
      }
    },
    {
      "cell_type": "code",
      "source": [
        "import requests\n",
        "from graphqlclient import GraphQLClient"
      ],
      "metadata": {
        "id": "1NJKSYfwJ2UG"
      },
      "execution_count": null,
      "outputs": []
    },
    {
      "cell_type": "markdown",
      "source": [
        "### Step 3: Initialize the GraphQL Client\n",
        "  ```python\n",
        "  client = GraphQLClient('https://www.upwork.com/ab/graphql')\n",
        "```\n",
        "  - **`GraphQLClient`**: This is a class provided by the `graphqlclient` Python library, which facilitates sending requests to a GraphQL API endpoint and receiving responses.\n",
        "  - **`'https://www.upwork.com/ab/graphql'`**: This URL is the specific endpoint of the Upwork API that handles GraphQL queries. By passing this URL to the `GraphQLClient`, you configure the client to interact with Upwork's GraphQL API."
      ],
      "metadata": {
        "id": "MhY3pH4_KY7Y"
      }
    },
    {
      "cell_type": "code",
      "source": [
        "client = GraphQLClient('https://www.upwork.com/ab/graphql')"
      ],
      "metadata": {
        "id": "mCInDqE7KXQV"
      },
      "execution_count": null,
      "outputs": []
    },
    {
      "cell_type": "markdown",
      "source": [
        "### Step 4: Set Up Your API Credentials\n",
        "```python\n",
        "  api_key = 'YOUR_API_KEY'\n",
        "  access_token = 'YOUR_ACCESS_TOKEN'\n",
        "```\n",
        "* **api_key**: This is your unique key provided by Upwork after your API access request is approved.\n",
        "* **access_token**: This token is obtained through the OAuth 2.0 authorization process and is used to authenticate your API requests.\n"
      ],
      "metadata": {
        "id": "7CFQQGGFKikx"
      }
    },
    {
      "cell_type": "code",
      "source": [
        "api_key = 'YOUR_API_KEY'\n",
        "access_token = 'YOUR_ACCESS_TOKEN'"
      ],
      "metadata": {
        "id": "66tdx3TXK3GQ"
      },
      "execution_count": null,
      "outputs": []
    },
    {
      "cell_type": "markdown",
      "source": [
        "### Step 5: Set Up the Headers for the API Request\n",
        "\n",
        "```python\n",
        "headers = {\n",
        "    'Authorization': f'Bearer {access_token}',\n",
        "    'Upwork-Api-Key': api_key,\n",
        "    'Content-Type': 'application/json'\n",
        "}\n",
        "```\n",
        "\n",
        "* **Authorization**: The `Bearer` keyword is used to pass the `access_token` in the HTTP request header, which tells the API that you're an authenticated user.\n",
        "* **Upwork-Api-Key**: This header includes your API key, which is necessary for the Upwork API to validate your request.\n",
        "* **Content-Type**: This specifies that the data being sent in the request is in JSON format, which is standard for APIs."
      ],
      "metadata": {
        "id": "3kPZgPirKjP_"
      }
    },
    {
      "cell_type": "code",
      "source": [
        "headers = {\n",
        "    'Authorization': f'Bearer {access_token}',\n",
        "    'Upwork-Api-Key': api_key,\n",
        "    'Content-Type': 'application/json'\n",
        "}"
      ],
      "metadata": {
        "id": "4S0Eq9DELW8F"
      },
      "execution_count": null,
      "outputs": []
    },
    {
      "cell_type": "markdown",
      "source": [
        "### Step 6: Define Your GraphQL Query\n",
        "\n",
        "```python\n",
        "search_term = \"Python Developer\"\n",
        "result_count = 10\n",
        "query = f\"\"\"\n",
        "query {{\n",
        "  jobs(query: \"{search_term}\", first: {result_count}) {{\n",
        "    nodes {{\n",
        "      id\n",
        "      title\n",
        "      description\n",
        "      skills {{\n",
        "        name\n",
        "      }}\n",
        "      budget\n",
        "      jobType\n",
        "      client {{\n",
        "        country\n",
        "        rating\n",
        "        feedbackScore\n",
        "      }}\n",
        "    }}\n",
        "  }}\n",
        "}}\n",
        "\"\"\"\n",
        "```\n",
        "- **query**: This string defines the GraphQL query you want to send to the Upwork API. It asks for job postings that match the search term \"Python Developer.\"\n",
        "- **jobs(query: \"Python Developer\", first: 10)**: This part of the query specifies that you want the first 10 job postings related to \"Python Developer.\"\n",
        "- **nodes**: Within each job posting, you're requesting specific fields:\n",
        "  - **id**: The unique identifier for the job.\n",
        "  - **title**: The job title.\n",
        "  - **description**: The job description.\n",
        "  - **skills**: A list of skills required for the job.\n",
        "  - **budget**: This field will retrieve the budget allocated for the job posting.\n",
        "  - **jobType**: This field will indicate whether the job is an hourly contract or a fixed-price job.\n",
        "  - **client**: Information about the client, such as their country and rating.\n"
      ],
      "metadata": {
        "id": "dFC3Dh-vKkcm"
      }
    },
    {
      "cell_type": "code",
      "source": [
        "search_term = \"Python Developer\"\n",
        "result_count = 10\n",
        "query = f\"\"\"\n",
        "query {{\n",
        "  jobs(query: \"{search_term}\", first: {result_count}) {{\n",
        "    nodes {{\n",
        "      id\n",
        "      title\n",
        "      description\n",
        "      skills {{\n",
        "        name\n",
        "      }}\n",
        "      budget\n",
        "      jobType\n",
        "      client {{\n",
        "        country\n",
        "        rating\n",
        "        feedbackScore\n",
        "      }}\n",
        "    }}\n",
        "  }}\n",
        "}}\n",
        "\"\"\""
      ],
      "metadata": {
        "id": "-kmC7_U3Ll__"
      },
      "execution_count": null,
      "outputs": []
    },
    {
      "cell_type": "markdown",
      "source": [
        "### Step 7: Execute the Query\n",
        "\n",
        "```python\n",
        "def fetch_job_postings():\n",
        "    try:\n",
        "        response = client.execute(query=query, headers=headers)\n",
        "        return response\n",
        "    except Exception as e:\n",
        "        print(f\"An error occurred: {e}\")\n",
        "```\n",
        "- **fetch_job_postings()**: This function sends the GraphQL query to the Upwork API using the `execute` method of the `GraphQLClient`.\n",
        "- **try-except block**: The function attempts to execute the query and return the response. If an error occurs (e.g., network issues, API errors), it catches the exception and prints an error message.\n"
      ],
      "metadata": {
        "id": "A9adaSXWKlCl"
      }
    },
    {
      "cell_type": "code",
      "source": [
        "def fetch_job_postings():\n",
        "    try:\n",
        "        response = client.execute(query=query, headers=headers)\n",
        "        return response\n",
        "    except Exception as e:\n",
        "        print(f\"An error occurred: {e}\")"
      ],
      "metadata": {
        "id": "0sOcAr_pLlAM"
      },
      "execution_count": null,
      "outputs": []
    },
    {
      "cell_type": "markdown",
      "source": [
        "### Step 8: Fetch and Print Job Postings\n",
        "\n",
        "```python\n",
        "job_postings = fetch_job_postings()\n",
        "print(job_postings)\n",
        "```\n",
        "- **job_postings**: This variable stores the response returned by the `fetch_job_postings()` function.\n",
        "- **print(job_postings)**: This line outputs the job postings to the console. The response is typically in JSON format, which includes the job details you requested.\n",
        "\n",
        "\n"
      ],
      "metadata": {
        "id": "UaooR56PLkAH"
      }
    },
    {
      "cell_type": "code",
      "source": [
        "job_postings = fetch_job_postings()\n",
        "print(job_postings)"
      ],
      "metadata": {
        "id": "FL1aAvyHLnyV"
      },
      "execution_count": null,
      "outputs": []
    },
    {
      "cell_type": "markdown",
      "source": [
        "### Complete Code\n",
        "\n"
      ],
      "metadata": {
        "id": "eEdvOPTZEOOR"
      }
    },
    {
      "cell_type": "code",
      "source": [
        "import requests\n",
        "from graphqlclient import GraphQLClient\n",
        "\n",
        "# Initialize the GraphQL client\n",
        "client = GraphQLClient('https://www.upwork.com/ab/graphql')\n",
        "\n",
        "# Replace these with your actual API keys and access token\n",
        "api_key = 'YOUR_API_KEY'\n",
        "access_token = 'YOUR_ACCESS_TOKEN'\n",
        "\n",
        "# Set up the headers for the API request\n",
        "headers = {\n",
        "    'Authorization': f'Bearer {access_token}',\n",
        "    'Upwork-Api-Key': api_key,\n",
        "    'Content-Type': 'application/json'\n",
        "}\n",
        "\n",
        "# Define your GraphQL query\n",
        "search_term = \"Python Developer\" # customize your serach\n",
        "result_count = 10\n",
        "\n",
        "query = f\"\"\"\n",
        "query {{\n",
        "  jobs(query: \"{search_term}\", first: {result_count}) {{\n",
        "    nodes {{\n",
        "      id\n",
        "      title\n",
        "      description\n",
        "      skills {{\n",
        "        name\n",
        "      }}\n",
        "      budget\n",
        "      jobType\n",
        "      client {{\n",
        "        country\n",
        "        rating\n",
        "        feedbackScore\n",
        "      }}\n",
        "    }}\n",
        "  }}\n",
        "}}\n",
        "\"\"\"\n",
        "\n",
        "# Execute the query\n",
        "def fetch_job_postings():\n",
        "    try:\n",
        "        response = client.execute(query=query, headers=headers)\n",
        "        return response\n",
        "    except Exception as e:\n",
        "        print(f\"An error occurred: {e}\")\n",
        "\n",
        "# Fetch the job postings\n",
        "job_postings = fetch_job_postings()\n",
        "print(job_postings)"
      ],
      "metadata": {
        "id": "ivZXwItEEN2F"
      },
      "execution_count": null,
      "outputs": []
    }
  ]
}